{
 "cells": [
  {
   "cell_type": "markdown",
   "metadata": {},
   "source": [
    "Q1. What is the Probability density function?\n",
    "\n",
    "Q2. What are the types of Probability distribution?\n",
    "\n",
    "Q3. Write a Python function to calculate the probability density function of a normal distribution with\n",
    "given mean and standard deviation at a given point.\n",
    "\n",
    "Q4. What are the properties of Binomial distribution? Give two examples of events where binomial\n",
    "distribution can be applied.\n",
    "\n",
    "Q5. Generate a random sample of size 1000 from a binomial distribution with probability of success 0.4\n",
    "and plot a histogram of the results using matplotlib.\n",
    "\n",
    "Q6. Write a Python function to calculate the cumulative distribution function of a Poisson distribution\n",
    "with given mean at a given point.\n",
    "\n",
    "Q7. How Binomial distribution different from Poisson distribution?\n",
    "\n",
    "Q8. Generate a random sample of size 1000 from a Poisson distribution with mean 5 and calculate the\n",
    "sample mean and variance.\n",
    "\n",
    "Q9. How mean and variance are related in Binomial distribution and Poisson distribution?\n",
    "\n",
    "Q10. In normal distribution with respect to mean position, where does the least frequent data appear?"
   ]
  },
  {
   "cell_type": "markdown",
   "metadata": {},
   "source": []
  },
  {
   "cell_type": "markdown",
   "metadata": {},
   "source": [
    "Q1. The Probability Density Function (PDF) is a function that describes the likelihood of a random variable taking on a specific value or falling within a range of values. In continuous probability distributions, the PDF represents the relative likelihood of different outcomes."
   ]
  },
  {
   "cell_type": "markdown",
   "metadata": {},
   "source": []
  },
  {
   "cell_type": "markdown",
   "metadata": {},
   "source": [
    "Q2. There are several types of probability distributions, including:\n",
    "\n",
    "Normal Distribution (Gaussian Distribution)\n",
    "Binomial Distribution\n",
    "Poisson Distribution\n",
    "Exponential Distribution\n",
    "Uniform Distribution\n",
    "Chi-Square Distribution\n",
    "Student's t-Distribution\n",
    "F-Distribution\n",
    "Gamma Distribution\n",
    "Beta Distribution, and more."
   ]
  },
  {
   "cell_type": "markdown",
   "metadata": {},
   "source": []
  },
  {
   "cell_type": "code",
   "execution_count": 1,
   "metadata": {},
   "outputs": [],
   "source": [
    "import math\n",
    "\n",
    "def normal_pdf(x, mean, std_dev):\n",
    "    exponent = -(x - mean)**2 / (2 * std_dev**2)\n",
    "    coefficient = 1 / (std_dev * math.sqrt(2*math.pi))\n",
    "    pdf = coefficient * math.exp(exponent)\n",
    "    return pdf\n"
   ]
  },
  {
   "cell_type": "markdown",
   "metadata": {},
   "source": []
  },
  {
   "cell_type": "markdown",
   "metadata": {},
   "source": [
    "Q4. The properties of a Binomial distribution are:\n",
    "\n",
    "The number of trials, n, is fixed.\n",
    "Each trial has two possible outcomes: success or failure.\n",
    "The probability of success, p, is constant for each trial.\n",
    "The trials are independent.\n",
    "The random variable X follows a binomial distribution, denoted as X ~ B(n, p).\n",
    "Two examples where the binomial distribution can be applied are:\n",
    "\n",
    "Flipping a fair coin multiple times and counting the number of heads.\n",
    "Conducting a series of opinion polls and measuring the proportion of people who agree with a certain statement."
   ]
  },
  {
   "cell_type": "code",
   "execution_count": null,
   "metadata": {},
   "outputs": [],
   "source": []
  },
  {
   "cell_type": "code",
   "execution_count": 2,
   "metadata": {},
   "outputs": [
    {
     "data": {
      "image/png": "[encoded data removed]",
      "text/plain": [
       "<Figure size 640x480 with 1 Axes>"
      ]
     },
     "metadata": {},
     "output_type": "display_data"
    }
   ],
   "source": [
    "import numpy as np\n",
    "import matplotlib.pyplot as plt\n",
    "\n",
    "sample = np.random.binomial(n=1, p=0.4, size=1000)\n",
    "\n",
    "plt.hist(sample, bins=2, edgecolor='black')\n",
    "plt.xlabel('Outcome')\n",
    "plt.ylabel('Frequency')\n",
    "plt.title('Histogram of Binomial Distribution')\n",
    "plt.show()\n"
   ]
  },
  {
   "cell_type": "markdown",
   "metadata": {},
   "source": []
  },
  {
   "cell_type": "code",
   "execution_count": 3,
   "metadata": {},
   "outputs": [],
   "source": [
    "import math\n",
    "\n",
    "def poisson_cdf(x, mean):\n",
    "    cdf = 0\n",
    "    for k in range(x + 1):\n",
    "        cdf += math.exp(-mean) * mean**k / math.factorial(k)\n",
    "    return cdf\n"
   ]
  },
  {
   "cell_type": "markdown",
   "metadata": {},
   "source": []
  },
  {
   "cell_type": "markdown",
   "metadata": {},
   "source": [
    "Q7. The main differences between the Binomial and Poisson distributions are:\n",
    "\n",
    "The Binomial distribution describes the number of successes in a fixed number of independent Bernoulli trials, whereas the Poisson distribution describes the number of events occurring in a fixed interval of time or space.\n",
    "The Binomial distribution has two parameters: the number of trials (n) and the probability of success in each trial (p). The Poisson distribution has only one parameter: the average rate of event occurrences (λ).\n",
    "The Binomial distribution deals with discrete random variables, while the Poisson distribution deals with discrete or continuous random variables."
   ]
  },
  {
   "cell_type": "markdown",
   "metadata": {},
   "source": []
  },
  {
   "cell_type": "code",
   "execution_count": 4,
   "metadata": {},
   "outputs": [
    {
     "name": "stdout",
     "output_type": "stream",
     "text": [
      "Sample Mean: 5.012\n",
      "Sample Variance: 5.327856\n"
     ]
    }
   ],
   "source": [
    "import numpy as np\n",
    "\n",
    "sample = np.random.poisson(lam=5, size=1000)\n",
    "sample_mean = np.mean(sample)\n",
    "sample_variance = np.var(sample)\n",
    "\n",
    "print(\"Sample Mean:\", sample_mean)\n",
    "print(\"Sample Variance:\", sample_variance)\n"
   ]
  },
  {
   "cell_type": "markdown",
   "metadata": {},
   "source": []
  },
  {
   "cell_type": "markdown",
   "metadata": {},
   "source": [
    "Q9. In both the Binomial and Poisson distributions, the mean and variance are related:\n",
    "\n",
    "For a Binomial distribution with parameters n and p, the mean (μ) is given by μ = n * p, and the variance (σ^2) is given by σ^2 = n * p * (1 - p).\n",
    "For a Poisson distribution with a mean (λ), the mean and variance are both equal to λ."
   ]
  },
  {
   "cell_type": "markdown",
   "metadata": {},
   "source": []
  },
  {
   "cell_type": "markdown",
   "metadata": {},
   "source": [
    "Q10. In a normal distribution, the least frequent data appears in the tails of the distribution, farthest away from the mean. The data points in the tails have extreme values compared to the mean and are less likely to occur."
   ]
  }
 ],
 "metadata": {
  "kernelspec": {
   "display_name": "base",
   "language": "python",
   "name": "python3"
  },
  "language_info": {
   "codemirror_mode": {
    "name": "ipython",
    "version": 3
   },
   "file_extension": ".py",
   "mimetype": "text/x-python",
   "name": "python",
   "nbconvert_exporter": "python",
   "pygments_lexer": "ipython3",
   "version": "3.10.9"
  },
  "orig_nbformat": 4
 },
 "nbformat": 4,
 "nbformat_minor": 2
}
